{
 "cells": [
  {
   "cell_type": "code",
   "execution_count": 1,
   "id": "a78ed212",
   "metadata": {},
   "outputs": [],
   "source": [
    "import rclpy as rp\n",
    "from turtlesim.srv import TeleportAbsolute"
   ]
  },
  {
   "cell_type": "code",
   "execution_count": 2,
   "id": "21bb5509",
   "metadata": {},
   "outputs": [],
   "source": [
    "rp.init()\n",
    "srv_node = rp.create_node('client_test')"
   ]
  },
  {
   "cell_type": "code",
   "execution_count": 3,
   "id": "df57374f",
   "metadata": {},
   "outputs": [],
   "source": [
    "service_name = '/turtle1/teleport_absolute'\n",
    "cli = srv_node.create_client(TeleportAbsolute, service_name)"
   ]
  },
  {
   "cell_type": "code",
   "execution_count": 4,
   "id": "17ee9e2c",
   "metadata": {},
   "outputs": [],
   "source": [
    "req = TeleportAbsolute.Request()"
   ]
  },
  {
   "cell_type": "code",
   "execution_count": 5,
   "id": "af070462",
   "metadata": {},
   "outputs": [
    {
     "data": {
      "text/plain": [
       "turtlesim.srv.TeleportAbsolute_Request(x=0.0, y=0.0, theta=0.0)"
      ]
     },
     "execution_count": 5,
     "metadata": {},
     "output_type": "execute_result"
    }
   ],
   "source": [
    "req"
   ]
  },
  {
   "cell_type": "code",
   "execution_count": 11,
   "id": "e27cbdba",
   "metadata": {},
   "outputs": [
    {
     "data": {
      "text/plain": [
       "turtlesim.srv.TeleportAbsolute_Request(x=5.0, y=5.0, theta=1.14)"
      ]
     },
     "execution_count": 11,
     "metadata": {},
     "output_type": "execute_result"
    }
   ],
   "source": [
    "req.x = 5.\n",
    "req.y = 5.\n",
    "req.theta = 1.14\n",
    "req"
   ]
  },
  {
   "cell_type": "code",
   "execution_count": 12,
   "id": "287cbdaa",
   "metadata": {},
   "outputs": [
    {
     "data": {
      "text/plain": [
       "<rclpy.task.Future at 0x7f21006429d0>"
      ]
     },
     "execution_count": 12,
     "metadata": {},
     "output_type": "execute_result"
    }
   ],
   "source": [
    "cli.call_async(req)"
   ]
  },
  {
   "cell_type": "code",
   "execution_count": 13,
   "id": "2753f50d",
   "metadata": {},
   "outputs": [],
   "source": [
    "rp.spin_once(test_node)"
   ]
  },
  {
   "cell_type": "code",
   "execution_count": null,
   "id": "2116a126",
   "metadata": {},
   "outputs": [],
   "source": []
  },
  {
   "cell_type": "code",
   "execution_count": null,
   "id": "9263ca61",
   "metadata": {},
   "outputs": [],
   "source": []
  },
  {
   "cell_type": "code",
   "execution_count": null,
   "id": "636a0031",
   "metadata": {},
   "outputs": [],
   "source": []
  }
 ],
 "metadata": {
  "kernelspec": {
   "display_name": "Python 3 (ipykernel)",
   "language": "python",
   "name": "python3"
  },
  "language_info": {
   "codemirror_mode": {
    "name": "ipython",
    "version": 3
   },
   "file_extension": ".py",
   "mimetype": "text/x-python",
   "name": "python",
   "nbconvert_exporter": "python",
   "pygments_lexer": "ipython3",
   "version": "3.8.10"
  }
 },
 "nbformat": 4,
 "nbformat_minor": 5
}
