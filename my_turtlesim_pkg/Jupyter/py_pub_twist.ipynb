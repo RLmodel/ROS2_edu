{
 "cells": [
  {
   "cell_type": "code",
   "execution_count": 14,
   "id": "be547950",
   "metadata": {
    "scrolled": true
   },
   "outputs": [],
   "source": [
    "import rclpy as rp\n",
    "from geometry_msgs.msg import Twist"
   ]
  },
  {
   "cell_type": "code",
   "execution_count": 15,
   "id": "22db5bf6",
   "metadata": {
    "scrolled": true
   },
   "outputs": [],
   "source": [
    "rp.init()\n",
    "test_node = rp.create_node('pub_test')"
   ]
  },
  {
   "cell_type": "code",
   "execution_count": 16,
   "id": "03ff66fc",
   "metadata": {},
   "outputs": [],
   "source": [
    "msg = Twist()"
   ]
  },
  {
   "cell_type": "code",
   "execution_count": 3,
   "id": "507750eb",
   "metadata": {
    "collapsed": true
   },
   "outputs": [
    {
     "name": "stdout",
     "output_type": "stream",
     "text": [
      "geometry_msgs.msg.Twist(linear=geometry_msgs.msg.Vector3(x=0.0, y=0.0, z=0.0), angular=geometry_msgs.msg.Vector3(x=0.0, y=0.0, z=0.0))\n"
     ]
    }
   ],
   "source": [
    "print(msg)"
   ]
  },
  {
   "cell_type": "code",
   "execution_count": 17,
   "id": "ed77ca2d",
   "metadata": {},
   "outputs": [],
   "source": [
    "msg.linear.x =0.0\n",
    "msg.linear.y =2.0"
   ]
  },
  {
   "cell_type": "code",
   "execution_count": 18,
   "id": "b01df8ca",
   "metadata": {},
   "outputs": [],
   "source": [
    "pub = test_node.create_publisher(Twist, '/turtle1/cmd_vel', 10)\n",
    "pub.publish(msg)"
   ]
  },
  {
   "cell_type": "code",
   "execution_count": 19,
   "id": "7d114cf4",
   "metadata": {},
   "outputs": [],
   "source": [
    "test_node.destroy_node()"
   ]
  },
  {
   "cell_type": "code",
   "execution_count": 20,
   "id": "0956409c",
   "metadata": {},
   "outputs": [],
   "source": [
    "rp.shutdown()"
   ]
  },
  {
   "cell_type": "code",
   "execution_count": null,
   "id": "968d2776",
   "metadata": {},
   "outputs": [],
   "source": []
  }
 ],
 "metadata": {
  "kernelspec": {
   "display_name": "Python 3 (ipykernel)",
   "language": "python",
   "name": "python3"
  },
  "language_info": {
   "codemirror_mode": {
    "name": "ipython",
    "version": 3
   },
   "file_extension": ".py",
   "mimetype": "text/x-python",
   "name": "python",
   "nbconvert_exporter": "python",
   "pygments_lexer": "ipython3",
   "version": "3.8.10"
  }
 },
 "nbformat": 4,
 "nbformat_minor": 5
}
