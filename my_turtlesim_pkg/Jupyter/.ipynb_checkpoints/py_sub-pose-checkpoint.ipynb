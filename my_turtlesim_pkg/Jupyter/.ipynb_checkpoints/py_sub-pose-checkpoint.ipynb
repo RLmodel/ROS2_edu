{
 "cells": [
  {
   "cell_type": "code",
   "execution_count": 4,
   "id": "11e37cfe",
   "metadata": {},
   "outputs": [],
   "source": [
    "import rclpy as rp\n",
    "from turtlesim.msg import Pose"
   ]
  },
  {
   "cell_type": "code",
   "execution_count": 5,
   "id": "9bd9d4ff",
   "metadata": {},
   "outputs": [
    {
     "name": "stderr",
     "output_type": "stream",
     "text": [
      "1674529369.490302 [0]    python3: using network interface wlp2s0 (udp/192.168.0.19) selected arbitrarily from: wlp2s0, docker0\n"
     ]
    }
   ],
   "source": [
    "rp.init()\n",
    "test_node = rp.create_node('sub_test')"
   ]
  },
  {
   "cell_type": "code",
   "execution_count": 6,
   "id": "27a6bd36",
   "metadata": {},
   "outputs": [],
   "source": [
    "def callback(data):\n",
    "    print(\"turtle pose\",data)\n",
    "    print(\"X: \", data.x)\n",
    "    print(\"Y: \", data.y)\n",
    "    print(\"Heading: \",data.theta)"
   ]
  },
  {
   "cell_type": "code",
   "execution_count": 7,
   "id": "3d5a0fee",
   "metadata": {},
   "outputs": [
    {
     "data": {
      "text/plain": [
       "<rclpy.subscription.Subscription at 0x7f5c6c4fdac0>"
      ]
     },
     "execution_count": 7,
     "metadata": {},
     "output_type": "execute_result"
    }
   ],
   "source": [
    "test_node.create_subscription(Pose, '/turtle1/pose', callback, 10)"
   ]
  },
  {
   "cell_type": "code",
   "execution_count": 8,
   "id": "22d984ec",
   "metadata": {},
   "outputs": [
    {
     "name": "stdout",
     "output_type": "stream",
     "text": [
      "turtle pose turtlesim.msg.Pose(x=4.840552806854248, y=5.830162525177002, theta=-0.7792094945907593, linear_velocity=0.0, angular_velocity=0.0)\n",
      "X:  4.840552806854248\n",
      "Y:  5.830162525177002\n",
      "Heading:  -0.7792094945907593\n"
     ]
    }
   ],
   "source": [
    "rp.spin_once(test_node)"
   ]
  },
  {
   "cell_type": "code",
   "execution_count": null,
   "id": "210b57b3",
   "metadata": {},
   "outputs": [],
   "source": [
    "test_node.de"
   ]
  }
 ],
 "metadata": {
  "kernelspec": {
   "display_name": "Python 3 (ipykernel)",
   "language": "python",
   "name": "python3"
  },
  "language_info": {
   "codemirror_mode": {
    "name": "ipython",
    "version": 3
   },
   "file_extension": ".py",
   "mimetype": "text/x-python",
   "name": "python",
   "nbconvert_exporter": "python",
   "pygments_lexer": "ipython3",
   "version": "3.8.10"
  }
 },
 "nbformat": 4,
 "nbformat_minor": 5
}
