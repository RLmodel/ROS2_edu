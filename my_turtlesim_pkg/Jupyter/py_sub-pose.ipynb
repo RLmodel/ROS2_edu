{
 "cells": [
  {
   "cell_type": "code",
   "execution_count": 7,
   "id": "11e37cfe",
   "metadata": {},
   "outputs": [],
   "source": [
    "import rclpy as rp\n",
    "from turtlesim.msg import Pose"
   ]
  },
  {
   "cell_type": "code",
   "execution_count": 8,
   "id": "9bd9d4ff",
   "metadata": {
    "scrolled": true
   },
   "outputs": [],
   "source": [
    "rp.init()\n",
    "sub_node = rp.create_node('sub_test')"
   ]
  },
  {
   "cell_type": "code",
   "execution_count": 9,
   "id": "27a6bd36",
   "metadata": {},
   "outputs": [],
   "source": [
    "def callback(data):\n",
    "    print(\"turtle pose\",data)\n",
    "    print(\"X: \", data.x)\n",
    "    print(\"Y: \", data.y)\n",
    "    print(\"Heading: \",data.theta)"
   ]
  },
  {
   "cell_type": "code",
   "execution_count": 10,
   "id": "3d5a0fee",
   "metadata": {},
   "outputs": [
    {
     "data": {
      "text/plain": [
       "<rclpy.subscription.Subscription at 0x7f0aec0360a0>"
      ]
     },
     "execution_count": 10,
     "metadata": {},
     "output_type": "execute_result"
    }
   ],
   "source": [
    "sub_node.create_subscription(Pose, '/turtle1/pose', callback, 10)"
   ]
  },
  {
   "cell_type": "code",
   "execution_count": 11,
   "id": "22d984ec",
   "metadata": {},
   "outputs": [
    {
     "name": "stdout",
     "output_type": "stream",
     "text": [
      "turtle pose turtlesim.msg.Pose(x=5.503449440002441, y=7.406180381774902, theta=-2.033808469772339, linear_velocity=0.0, angular_velocity=0.4000000059604645)\n",
      "X:  5.503449440002441\n",
      "Y:  7.406180381774902\n",
      "Heading:  -2.033808469772339\n"
     ]
    }
   ],
   "source": [
    "rp.spin_once(test_node)"
   ]
  },
  {
   "cell_type": "code",
   "execution_count": 12,
   "id": "210b57b3",
   "metadata": {},
   "outputs": [],
   "source": [
    "sub_node.destroy_node()"
   ]
  },
  {
   "cell_type": "code",
   "execution_count": 13,
   "id": "f2102f58",
   "metadata": {},
   "outputs": [],
   "source": [
    "rp.shutdown()"
   ]
  },
  {
   "cell_type": "code",
   "execution_count": null,
   "id": "57d67b85",
   "metadata": {},
   "outputs": [],
   "source": []
  }
 ],
 "metadata": {
  "kernelspec": {
   "display_name": "Python 3 (ipykernel)",
   "language": "python",
   "name": "python3"
  },
  "language_info": {
   "codemirror_mode": {
    "name": "ipython",
    "version": 3
   },
   "file_extension": ".py",
   "mimetype": "text/x-python",
   "name": "python",
   "nbconvert_exporter": "python",
   "pygments_lexer": "ipython3",
   "version": "3.8.10"
  }
 },
 "nbformat": 4,
 "nbformat_minor": 5
}
