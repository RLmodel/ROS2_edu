{
 "cells": [
  {
   "cell_type": "code",
   "execution_count": 1,
   "id": "53bb7a2b",
   "metadata": {},
   "outputs": [],
   "source": [
    "class DrawSin:\n",
    "    def __init__(self, amp, freq, bias, end_time):\n",
    "        self.amp = amp\n",
    "        self.freq = freq\n",
    "        self.bias = bias\n",
    "        self.end_time =end_time"
   ]
  },
  {
   "cell_type": "code",
   "execution_count": 2,
   "id": "85708903",
   "metadata": {},
   "outputs": [],
   "source": [
    "tmp = DrawSin(1,1,0,3)"
   ]
  },
  {
   "cell_type": "code",
   "execution_count": 3,
   "id": "40ac9f0f",
   "metadata": {},
   "outputs": [
    {
     "data": {
      "text/plain": [
       "{'amp': 1, 'freq': 1, 'bias': 0, 'end_time': 3}"
      ]
     },
     "execution_count": 3,
     "metadata": {},
     "output_type": "execute_result"
    }
   ],
   "source": [
    "tmp.__dict__"
   ]
  },
  {
   "cell_type": "code",
   "execution_count": 5,
   "id": "baab3406",
   "metadata": {},
   "outputs": [
    {
     "data": {
      "text/plain": [
       "1"
      ]
     },
     "execution_count": 5,
     "metadata": {},
     "output_type": "execute_result"
    }
   ],
   "source": [
    "tmp.amp"
   ]
  },
  {
   "cell_type": "code",
   "execution_count": 6,
   "id": "b6690200",
   "metadata": {},
   "outputs": [
    {
     "data": {
      "text/plain": [
       "['amp',\n",
       " 'freq',\n",
       " 'bias',\n",
       " 'end_time',\n",
       " '__module__',\n",
       " '__init__',\n",
       " '__dict__',\n",
       " '__weakref__',\n",
       " '__doc__',\n",
       " '__repr__',\n",
       " '__hash__',\n",
       " '__str__',\n",
       " '__getattribute__',\n",
       " '__setattr__',\n",
       " '__delattr__',\n",
       " '__lt__',\n",
       " '__le__',\n",
       " '__eq__',\n",
       " '__ne__',\n",
       " '__gt__',\n",
       " '__ge__',\n",
       " '__new__',\n",
       " '__reduce_ex__',\n",
       " '__reduce__',\n",
       " '__subclasshook__',\n",
       " '__init_subclass__',\n",
       " '__format__',\n",
       " '__sizeof__',\n",
       " '__dir__',\n",
       " '__class__']"
      ]
     },
     "execution_count": 6,
     "metadata": {},
     "output_type": "execute_result"
    }
   ],
   "source": [
    "tmp.__dir__()"
   ]
  },
  {
   "cell_type": "code",
   "execution_count": null,
   "id": "103615f4",
   "metadata": {},
   "outputs": [],
   "source": []
  }
 ],
 "metadata": {
  "kernelspec": {
   "display_name": "Python 3 (ipykernel)",
   "language": "python",
   "name": "python3"
  },
  "language_info": {
   "codemirror_mode": {
    "name": "ipython",
    "version": 3
   },
   "file_extension": ".py",
   "mimetype": "text/x-python",
   "name": "python",
   "nbconvert_exporter": "python",
   "pygments_lexer": "ipython3",
   "version": "3.8.10"
  }
 },
 "nbformat": 4,
 "nbformat_minor": 5
}
